{
  "nbformat": 4,
  "nbformat_minor": 0,
  "metadata": {
    "colab": {
      "name": "Python_chapter5_Optimization.ipynb",
      "provenance": [],
      "authorship_tag": "ABX9TyOpduJ3Xhqh6M9qcJwc3Jto",
      "include_colab_link": true
    },
    "kernelspec": {
      "name": "python3",
      "display_name": "Python 3"
    }
  },
  "cells": [
    {
      "cell_type": "markdown",
      "metadata": {
        "id": "view-in-github",
        "colab_type": "text"
      },
      "source": [
        "<a href=\"https://colab.research.google.com/github/SotaYoshida/1D-Heissenberg-Model/blob/master/Python_chapter5_Optimization.ipynb\" target=\"_parent\"><img src=\"https://colab.research.google.com/assets/colab-badge.svg\" alt=\"Open In Colab\"/></a>"
      ]
    },
    {
      "cell_type": "markdown",
      "metadata": {
        "id": "W7cNmbENdx0R",
        "colab_type": "text"
      },
      "source": [
        "#最適化問題の基礎"
      ]
    },
    {
      "cell_type": "code",
      "metadata": {
        "id": "4RAuvBu0dvcg",
        "colab_type": "code",
        "colab": {}
      },
      "source": [
        ""
      ],
      "execution_count": null,
      "outputs": []
    }
  ]
}